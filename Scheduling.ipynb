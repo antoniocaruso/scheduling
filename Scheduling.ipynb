{
  "nbformat": 4,
  "nbformat_minor": 0,
  "metadata": {
    "colab": {
      "provenance": [],
      "authorship_tag": "ABX9TyPOhbP6hthCnGocVIds28/S",
      "include_colab_link": true
    },
    "kernelspec": {
      "name": "python3",
      "display_name": "Python 3"
    },
    "language_info": {
      "name": "python"
    }
  },
  "cells": [
    {
      "cell_type": "markdown",
      "metadata": {
        "id": "view-in-github",
        "colab_type": "text"
      },
      "source": [
        "<a href=\"https://colab.research.google.com/github/antoniocaruso/scheduling/blob/master/Scheduling.ipynb\" target=\"_parent\"><img src=\"https://colab.research.google.com/assets/colab-badge.svg\" alt=\"Open In Colab\"/></a>"
      ]
    },
    {
      "cell_type": "code",
      "execution_count": 2,
      "metadata": {
        "id": "U3AmioyLPuQr"
      },
      "outputs": [],
      "source": [
        "import random\n",
        "import matplotlib.pyplot as plt\n",
        "\n"
      ]
    },
    {
      "cell_type": "code",
      "source": [
        "def planted_solution(n):\n",
        "  x = random.sample(range(1000),k=2*n)\n",
        "  y = sorted(x)\n",
        "  segments = [[y[i],y[i+1]] for i in range(0,len(x),2)]\n",
        "  return segments\n",
        "\n",
        "def plot_data(s):\n",
        "  for i,interval in enumerate(s):\n",
        "    start,end = interval\n",
        "    print(start,end)\n",
        "    plt.axhline(y=i, xmin=start/1000, xmax=end/1000, lw=2)\n"
      ],
      "metadata": {
        "id": "60sooYbeQVii"
      },
      "execution_count": 25,
      "outputs": []
    },
    {
      "cell_type": "code",
      "source": [
        "segments = planted_solution(5)\n",
        "plot_data(segments)"
      ],
      "metadata": {
        "colab": {
          "base_uri": "https://localhost:8080/",
          "height": 352
        },
        "id": "FuzQ0GMjrP5V",
        "outputId": "a2abe620-a1b4-4dd5-bc96-acc4b609e1c5"
      },
      "execution_count": 26,
      "outputs": [
        {
          "output_type": "stream",
          "name": "stdout",
          "text": [
            "124 195\n",
            "199 270\n",
            "311 390\n",
            "534 705\n",
            "793 800\n"
          ]
        },
        {
          "output_type": "display_data",
          "data": {
            "text/plain": [
              "<Figure size 432x288 with 1 Axes>"
            ],
            "image/png": "[encoded data removed]"
          },
          "metadata": {
            "needs_background": "light"
          }
        }
      ]
    },
    {
      "cell_type": "code",
      "source": [
        "s2 = planted_solution(7)\n",
        "plot_data(s2)"
      ],
      "metadata": {
        "colab": {
          "base_uri": "https://localhost:8080/",
          "height": 387
        },
        "id": "3bMaxQUtrwWN",
        "outputId": "bb9cadc0-5d7d-4f9f-b4d0-cd48c2d2eec7"
      },
      "execution_count": 28,
      "outputs": [
        {
          "output_type": "stream",
          "name": "stdout",
          "text": [
            "80 117\n",
            "287 341\n",
            "451 522\n",
            "533 545\n",
            "623 675\n",
            "683 741\n",
            "742 786\n"
          ]
        },
        {
          "output_type": "display_data",
          "data": {
            "text/plain": [
              "<Figure size 432x288 with 1 Axes>"
            ],
            "image/png": "[encoded data removed]"
          },
          "metadata": {
            "needs_background": "light"
          }
        }
      ]
    },
    {
      "cell_type": "code",
      "source": [
        "segments+=s2\n",
        "plot_data(segments)"
      ],
      "metadata": {
        "colab": {
          "base_uri": "https://localhost:8080/",
          "height": 473
        },
        "id": "wCJhLFMjupI-",
        "outputId": "64ef8f74-6594-45f6-9677-53d184a7539e"
      },
      "execution_count": 30,
      "outputs": [
        {
          "output_type": "stream",
          "name": "stdout",
          "text": [
            "124 195\n",
            "199 270\n",
            "311 390\n",
            "534 705\n",
            "793 800\n",
            "80 117\n",
            "287 341\n",
            "451 522\n",
            "533 545\n",
            "623 675\n",
            "683 741\n",
            "742 786\n"
          ]
        },
        {
          "output_type": "display_data",
          "data": {
            "text/plain": [
              "<Figure size 432x288 with 1 Axes>"
            ],
            "image/png": "[encoded data removed]"
          },
          "metadata": {
            "needs_background": "light"
          }
        }
      ]
    },
    {
      "cell_type": "code",
      "source": [
        "segments.sort(key = lambda x: x[1])\n",
        "schedule = []\n",
        "max_time = 0\n",
        "for s in segments:\n",
        "  start,end = s\n",
        "  if max_time < start:\n",
        "    schedule += [s]\n",
        "    max_time = end\n",
        "print(\"Found a schedule of len:\", len(schedule))\n",
        "print(schedule)"
      ],
      "metadata": {
        "colab": {
          "base_uri": "https://localhost:8080/"
        },
        "id": "gvskKuZ2uw00",
        "outputId": "4dec5eb5-155c-41d4-bfe0-fcc55f7336fd"
      },
      "execution_count": 43,
      "outputs": [
        {
          "output_type": "stream",
          "name": "stdout",
          "text": [
            "Found a schedule of len: 10\n",
            "[[80, 117], [124, 195], [199, 270], [287, 341], [451, 522], [533, 545], [623, 675], [683, 741], [742, 786], [793, 800]]\n"
          ]
        }
      ]
    },
    {
      "cell_type": "code",
      "source": [],
      "metadata": {
        "colab": {
          "base_uri": "https://localhost:8080/"
        },
        "id": "7pyZKRVdvNpo",
        "outputId": "93ed516b-ca13-449f-8b5f-132b245e0c30"
      },
      "execution_count": 37,
      "outputs": [
        {
          "output_type": "stream",
          "name": "stdout",
          "text": [
            "[[80, 117], [124, 195], [199, 270], [287, 341], [311, 390], [451, 522], [533, 545], [623, 675], [534, 705], [683, 741], [742, 786], [793, 800]]\n"
          ]
        }
      ]
    },
    {
      "cell_type": "code",
      "source": [],
      "metadata": {
        "id": "O7QLUkb2vVzX"
      },
      "execution_count": null,
      "outputs": []
    }
  ]
}